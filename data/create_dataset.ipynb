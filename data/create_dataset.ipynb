{
 "cells": [
  {
   "cell_type": "markdown",
   "metadata": {},
   "source": [
    "### Create Dataset\n",
    "\n",
    "Given a string of monthly passenger numbers (from an excel file), make a dataframe and save it as a csv"
   ]
  },
  {
   "cell_type": "code",
   "execution_count": 2,
   "metadata": {},
   "outputs": [],
   "source": [
    "# libraries\n",
    "\n",
    "import pandas as pd\n",
    "import numpy as np"
   ]
  },
  {
   "cell_type": "code",
   "execution_count": 24,
   "metadata": {},
   "outputs": [],
   "source": [
    "# UDFs\n",
    "\n",
    "def clean_data(airport):\n",
    "    \"\"\" Clean airport number data, e.g. by replacing Dutch-style comma decimal with punctuation mark\n",
    "    \"\"\"\n",
    "    \n",
    "    airport = airport.replace(',', '.')\n",
    "    airport= airport.replace('\\t', ' ')\n",
    "    airport = airport.split(' ')\n",
    "    airport = [float(x) for x in airport if x != '']\n",
    "    \n",
    "    return airport\n",
    "\n",
    "def make_column_names(airport):\n",
    "    \"\"\" We know data is from sequential months, make strings to show this \n",
    "    \"\"\"\n",
    "    month_array = ['Jan','Feb','Mar','Apr','May','Jun','Jul','Aug','Sep','Oct','Nov','Dec']\n",
    "    year_array = np.arange(2010, 2021)\n",
    "    column_titles = []\n",
    "    for year in year_array:\n",
    "        for month in month_array:\n",
    "            column_titles.append(month + \"-\" + str(year))\n",
    "\n",
    "    # Truncate it\n",
    "    column_titles = column_titles[:len(clean_data(airport))]\n",
    "    \n",
    "    return column_titles"
   ]
  },
  {
   "cell_type": "code",
   "execution_count": 25,
   "metadata": {},
   "outputs": [],
   "source": [
    "# this is our original data\n",
    "\n",
    "Schiphol = \"2,94 \t2,86 \t3,47 \t3,01 \t4,10 \t4,10 \t4,73 \t4,64 \t4,25 \t4,31 \t3,51 \t3,24 3,26 \t3,05 \t3,66 \t4,13 \t4,47 \t4,51 \t5,15 \t5,06 \t4,68 \t4,60 \t3,58 \t3,53 3,42 \t3,30 \t3,87 \t4,19 \t4,54 \t4,61 \t5,22 \t5,14 \t4,76 \t4,64 \t3,69 \t3,59 3,39 \t3,27 \t3,97 \t4,33 \t4,86 \t4,86 \t5,32 \t5,33 \t4,90 \t4,75 \t3,77 \t3,78 3,62 \t3,44 \t4,08 \t4,56 \t4,99 \t5,03 \t5,46 \t5,62 \t5,19 \t5,02 \t3,97 \t3,97 3,72 \t3,60 \t4,19 \t4,77 \t5,38 \t5,32 \t5,91 \t5,94 \t5,47 \t5,33 \t4,33 \t4,29 4,11 \t4,10 \t4,75 \t5,24 \t5,74 \t5,74 \t6,37 \t6,40 \t5,87 \t5,78 \t4,69 \t4,75 4,56 \t4,32 \t5,16 \t5,84 \t6,21 \t6,15 \t6,74 \t6,80 \t6,27 \t6,25 \t5,17 \t4,98 4,92 \t4,74 \t5,56 \t6,02 \t6,40 \t6,39 \t6,77 \t6,84 \t6,40 \t6,41 \t5,31 \t5,27 5,01 \t4,84 \t5,64 \t6,11 \t6,44 \t6,50 \t6,72 \t6,81 \t6,49 \t6,43  \t5,32  \t5,39 5,07\""
   ]
  },
  {
   "cell_type": "code",
   "execution_count": 26,
   "metadata": {},
   "outputs": [
    {
     "data": {
      "text/html": [
       "<div>\n",
       "<style scoped>\n",
       "    .dataframe tbody tr th:only-of-type {\n",
       "        vertical-align: middle;\n",
       "    }\n",
       "\n",
       "    .dataframe tbody tr th {\n",
       "        vertical-align: top;\n",
       "    }\n",
       "\n",
       "    .dataframe thead th {\n",
       "        text-align: right;\n",
       "    }\n",
       "</style>\n",
       "<table border=\"1\" class=\"dataframe\">\n",
       "  <thead>\n",
       "    <tr style=\"text-align: right;\">\n",
       "      <th></th>\n",
       "      <th>Schiphol</th>\n",
       "    </tr>\n",
       "  </thead>\n",
       "  <tbody>\n",
       "    <tr>\n",
       "      <th>Jan-2010</th>\n",
       "      <td>2.94</td>\n",
       "    </tr>\n",
       "    <tr>\n",
       "      <th>Feb-2010</th>\n",
       "      <td>2.86</td>\n",
       "    </tr>\n",
       "    <tr>\n",
       "      <th>Mar-2010</th>\n",
       "      <td>3.47</td>\n",
       "    </tr>\n",
       "    <tr>\n",
       "      <th>Apr-2010</th>\n",
       "      <td>3.01</td>\n",
       "    </tr>\n",
       "    <tr>\n",
       "      <th>May-2010</th>\n",
       "      <td>4.10</td>\n",
       "    </tr>\n",
       "  </tbody>\n",
       "</table>\n",
       "</div>"
      ],
      "text/plain": [
       "          Schiphol\n",
       "Jan-2010      2.94\n",
       "Feb-2010      2.86\n",
       "Mar-2010      3.47\n",
       "Apr-2010      3.01\n",
       "May-2010      4.10"
      ]
     },
     "execution_count": 26,
     "metadata": {},
     "output_type": "execute_result"
    }
   ],
   "source": [
    "# execution\n",
    "\n",
    "airport_series = pd.Series(dict(zip(make_column_names(Schiphol), clean_data(Schiphol))), name = 'Schiphol')\n",
    "schiphol_df = pd.DataFrame(airport_series)\n",
    "schiphol_df.head()"
   ]
  },
  {
   "cell_type": "code",
   "execution_count": 27,
   "metadata": {},
   "outputs": [
    {
     "data": {
      "text/html": [
       "<div>\n",
       "<style scoped>\n",
       "    .dataframe tbody tr th:only-of-type {\n",
       "        vertical-align: middle;\n",
       "    }\n",
       "\n",
       "    .dataframe tbody tr th {\n",
       "        vertical-align: top;\n",
       "    }\n",
       "\n",
       "    .dataframe thead th {\n",
       "        text-align: right;\n",
       "    }\n",
       "</style>\n",
       "<table border=\"1\" class=\"dataframe\">\n",
       "  <thead>\n",
       "    <tr style=\"text-align: right;\">\n",
       "      <th></th>\n",
       "      <th>Schiphol</th>\n",
       "    </tr>\n",
       "  </thead>\n",
       "  <tbody>\n",
       "    <tr>\n",
       "      <th>Sep-2019</th>\n",
       "      <td>6.49</td>\n",
       "    </tr>\n",
       "    <tr>\n",
       "      <th>Oct-2019</th>\n",
       "      <td>6.43</td>\n",
       "    </tr>\n",
       "    <tr>\n",
       "      <th>Nov-2019</th>\n",
       "      <td>5.32</td>\n",
       "    </tr>\n",
       "    <tr>\n",
       "      <th>Dec-2019</th>\n",
       "      <td>5.39</td>\n",
       "    </tr>\n",
       "    <tr>\n",
       "      <th>Jan-2020</th>\n",
       "      <td>5.07</td>\n",
       "    </tr>\n",
       "  </tbody>\n",
       "</table>\n",
       "</div>"
      ],
      "text/plain": [
       "          Schiphol\n",
       "Sep-2019      6.49\n",
       "Oct-2019      6.43\n",
       "Nov-2019      5.32\n",
       "Dec-2019      5.39\n",
       "Jan-2020      5.07"
      ]
     },
     "execution_count": 27,
     "metadata": {},
     "output_type": "execute_result"
    }
   ],
   "source": [
    "schiphol_df.tail()"
   ]
  },
  {
   "cell_type": "code",
   "execution_count": 28,
   "metadata": {},
   "outputs": [],
   "source": [
    "# save\n",
    "\n",
    "schiphol_df.to_csv('./data/schiphol_millions_pax_monthly.csv')"
   ]
  },
  {
   "cell_type": "code",
   "execution_count": null,
   "metadata": {},
   "outputs": [],
   "source": []
  }
 ],
 "metadata": {
  "kernelspec": {
   "display_name": "Python 3",
   "language": "python",
   "name": "python3"
  },
  "language_info": {
   "codemirror_mode": {
    "name": "ipython",
    "version": 3
   },
   "file_extension": ".py",
   "mimetype": "text/x-python",
   "name": "python",
   "nbconvert_exporter": "python",
   "pygments_lexer": "ipython3",
   "version": "3.7.3"
  }
 },
 "nbformat": 4,
 "nbformat_minor": 2
}
